{
 "cells": [
  {
   "cell_type": "code",
   "execution_count": 14,
   "metadata": {},
   "outputs": [
    {
     "name": "stdout",
     "output_type": "stream",
     "text": [
      "FirstName Rehana\n",
      "LastName Shaikh\n",
      "Age 20\n",
      "City Karachi\n",
      "\n",
      "\n",
      "FirstName Rehana\n",
      "LastName Shaikh\n",
      "Age 20\n",
      "City Karachi\n",
      "qualification Intermediate\n",
      "\n",
      "\n",
      "Higher academic\n",
      "\n",
      "\n",
      "FirstName Rehana\n",
      "LastName Shaikh\n",
      "Age 20\n",
      "City Karachi\n"
     ]
    }
   ],
   "source": [
    "thisdict = {'FirstName': 'Rehana','LastName':'Shaikh','Age': 20, 'City': 'Karachi', \n",
    "       }\n",
    "\n",
    "for x, y in thisdict.items():\n",
    "    print(x, y) \n",
    "print(\"\\n\")\n",
    "\n",
    "thisdict[\"qualification\"] = \"Intermediate\"\n",
    "\n",
    "for x, y in thisdict.items():\n",
    "    print(x, y) \n",
    "print(\"\\n\")\n",
    "    \n",
    "thisdict[\"qualification\"] = \"Higher academic\"\n",
    "\n",
    "print(thisdict['qualification'])\n",
    "\n",
    "print(\"\\n\")\n",
    "\n",
    "del thisdict['qualification']\n",
    "\n",
    "for x, y in thisdict.items():\n",
    "    print(x, y) \n",
    "    \n"
   ]
  },
  {
   "cell_type": "code",
   "execution_count": 15,
   "metadata": {},
   "outputs": [
    {
     "name": "stdout",
     "output_type": "stream",
     "text": [
      "pakistan\n",
      "It has a population of about 14.91 million.\n",
      "It is the Sixth largest city in the world by city population\n",
      "canada\n",
      "It has a population of about 2.93 million.\n",
      "Its a dynamic metropolis with a core of soaring skyscrapers\n",
      "china\n",
      "It has a population of about 24.24 million.\n",
      "Shanghai is a transportation powerhouse\n"
     ]
    }
   ],
   "source": [
    "cities = {\n",
    "    'karachi': {\n",
    "        'country': 'pakistan',\n",
    "        'population': '14.91 million',\n",
    "        'fact': 'It is the Sixth largest city in the world by city population',\n",
    "        },\n",
    "    'toronto': {\n",
    "        'country': 'canada',\n",
    "        'population': '2.93 million',\n",
    "        'fact': 'Its a dynamic metropolis with a core of soaring skyscrapers',\n",
    "        },\n",
    "    'shanghai': {\n",
    "        'country': 'china',\n",
    "        'population': '24.24 million',\n",
    "        'fact': 'Shanghai is a transportation powerhouse',\n",
    "        }\n",
    "    }\n",
    "\n",
    "\n",
    "for city, city_info in cities.items():\n",
    "    country = city_info['country']\n",
    "    population = city_info['population']\n",
    "    fact = city_info['fact']\n",
    "\n",
    "    print(country)\n",
    "    print(\"It has a population of about \" + (population) + \".\")\n",
    "    print(fact)\n",
    "\n"
   ]
  },
  {
   "cell_type": "code",
   "execution_count": 8,
   "metadata": {},
   "outputs": [
    {
     "name": "stdout",
     "output_type": "stream",
     "text": [
      "enter your age6\n",
      "TICKET FEES IS 10$\n"
     ]
    }
   ],
   "source": [
    "i=0\n",
    "while i<1:\n",
    "    age=eval(input(\"enter your age\"))\n",
    "    if age<3:\n",
    "        print(\"TICKET IS FREE\")\n",
    "    elif age>3 and age<12:\n",
    "        print(\"TICKET FEES IS 10$\")\n",
    "    elif age>12:\n",
    "        print(\"TICKET FEES IS 15$\")\n",
    "    i=i+1"
   ]
  },
  {
   "cell_type": "code",
   "execution_count": 9,
   "metadata": {},
   "outputs": [
    {
     "name": "stdout",
     "output_type": "stream",
     "text": [
      "One of my favorite book is Fault in the stars\n"
     ]
    }
   ],
   "source": [
    "def favorite_book(title):\n",
    "    print(\"One of my favorite book is\", title)\n",
    "\n",
    "    \n",
    "favorite_book(\"Fault in the stars\")"
   ]
  },
  {
   "cell_type": "code",
   "execution_count": 11,
   "metadata": {},
   "outputs": [
    {
     "name": "stdout",
     "output_type": "stream",
     "text": [
      "GUESS THE NUMBER\n",
      "enter the number8\n",
      "got right\n",
      "GUESS THE NUMBER\n",
      "enter the number3\n",
      "GUESS is low \n",
      "GUESS THE NUMBER\n",
      "enter the number6\n",
      "GUESS is low \n"
     ]
    }
   ],
   "source": [
    "import random\n",
    "i=0\n",
    "while i<3:\n",
    "    print(\"GUESS THE NUMBER\")\n",
    "    number1=eval(input(\"enter the number\"))\n",
    "    number = random.randint(1, 30)\n",
    "    if number1 > number:\n",
    "        print(\"GUESS is high \")\n",
    "    elif number1<number:\n",
    "        print(\"GUESS is low \")\n",
    "    elif number==number1:\n",
    "        print(\"got right\") \n",
    "    i=i+1\n"
   ]
  },
  {
   "cell_type": "code",
   "execution_count": null,
   "metadata": {},
   "outputs": [],
   "source": []
  }
 ],
 "metadata": {
  "kernelspec": {
   "display_name": "Python 3",
   "language": "python",
   "name": "python3"
  },
  "language_info": {
   "codemirror_mode": {
    "name": "ipython",
    "version": 3
   },
   "file_extension": ".py",
   "mimetype": "text/x-python",
   "name": "python",
   "nbconvert_exporter": "python",
   "pygments_lexer": "ipython3",
   "version": "3.7.4"
  }
 },
 "nbformat": 4,
 "nbformat_minor": 2
}
